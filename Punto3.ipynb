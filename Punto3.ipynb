{
  "nbformat": 4,
  "nbformat_minor": 0,
  "metadata": {
    "colab": {
      "name": "Untitled7.ipynb",
      "provenance": []
    },
    "kernelspec": {
      "name": "python3",
      "display_name": "Python 3"
    }
  },
  "cells": [
    {
      "cell_type": "markdown",
      "metadata": {
        "id": "VgZqcaW_dIIB"
      },
      "source": [
        "Vamos a tomar como ecuacion en diferencia, la de encontrar la longitud de la sucesion de Farey, esta tiene como ecuacion\r\n",
        "$$|F_n| = |F_{n-1}| + \\varphi (n)$$\r\n",
        "Donde $\\varphi$, representa la funcion $\\varphi$ de euler\r\n",
        "\r\n",
        " Tambien es necesario saber, que $|F_1| = 2 $"
      ]
    },
    {
      "cell_type": "code",
      "metadata": {
        "colab": {
          "base_uri": "https://localhost:8080/"
        },
        "id": "479reSefdGzs",
        "outputId": "7222fff6-2032-4dcb-d8aa-e237f6115155"
      },
      "source": [
        "def calculatorPhi ( n ):\r\n",
        "  phi = n; \r\n",
        "  aux = n \r\n",
        "  for i in range ( 2 , int(math.sqrt ( n )) + 2):\r\n",
        "    if ( aux % i == 0 ):\r\n",
        "      phi = phi * (1 - 1/i)\r\n",
        "    while ( aux % i == 0 ):\r\n",
        "      aux=aux/i;\r\n",
        "  if ( aux != 1 ): \r\n",
        "    phi = phi * (1 - 1/aux)\r\n",
        "  return phi\r\n",
        "\r\n",
        "import math\r\n",
        "n = int ( input ( \"Ingrese numero: \"))\r\n",
        "Farey = 2 ; \r\n",
        "for i in range ( 2 , n + 1 ): \r\n",
        "    Farey = Farey + calculatorPhi ( i)\r\n",
        "print ( \"La longitud de la sucecion de Farey para \", n , \"es igual a:\" , int(Farey))\r\n",
        "\r\n"
      ],
      "execution_count": 45,
      "outputs": [
        {
          "output_type": "stream",
          "text": [
            "Ingrese numero: 8\n",
            "La longitud de la sucecion de Farey para  8 es igual a: 23\n"
          ],
          "name": "stdout"
        }
      ]
    },
    {
      "cell_type": "markdown",
      "metadata": {
        "id": "4HZHH5L4mutq"
      },
      "source": [
        ""
      ]
    }
  ]
}